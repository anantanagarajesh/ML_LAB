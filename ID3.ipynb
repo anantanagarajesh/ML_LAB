{
  "nbformat": 4,
  "nbformat_minor": 0,
  "metadata": {
    "colab": {
      "provenance": [],
      "authorship_tag": "ABX9TyOusIHngHmzhnUrygJWVE1R",
      "include_colab_link": true
    },
    "kernelspec": {
      "name": "python3",
      "display_name": "Python 3"
    },
    "language_info": {
      "name": "python"
    }
  },
  "cells": [
    {
      "cell_type": "markdown",
      "metadata": {
        "id": "view-in-github",
        "colab_type": "text"
      },
      "source": [
        "<a href=\"https://colab.research.google.com/github/anantanagarajesh/ML_LAB/blob/main/ID3.ipynb\" target=\"_parent\"><img src=\"https://colab.research.google.com/assets/colab-badge.svg\" alt=\"Open In Colab\"/></a>"
      ]
    },
    {
      "cell_type": "code",
      "execution_count": 1,
      "metadata": {
        "id": "wV8fO6RklcQj"
      },
      "outputs": [],
      "source": [
        "import math\n",
        "import pandas as pd\n",
        "from operator import itemgetter"
      ]
    },
    {
      "cell_type": "code",
      "source": [
        "class DecisionTree:\n",
        "    def __init__(self, df, target, positive, parent_val, parent):\n",
        "        self.data = df\n",
        "        self.target = target\n",
        "        self.positive = positive\n",
        "        self.parent_val = parent_val\n",
        "        self.parent = parent\n",
        "        self.childs = []\n",
        "        self.decision = ''\n",
        "\n",
        "    def _get_entropy(self, data):\n",
        "        p = sum(data[self.target]==self.positive)\n",
        "        n = data.shape[0] - p\n",
        "        p_ratio = p/(p+n)\n",
        "        n_ratio = 1 - p_ratio\n",
        "        entropy_p = -p_ratio*math.log2(p_ratio) if p_ratio != 0 else 0\n",
        "        entropy_n = - n_ratio*math.log2(n_ratio) if n_ratio !=0 else 0\n",
        "        return entropy_p + entropy_n\n",
        "\n",
        "    def _get_gain(self, feat):\n",
        "        avg_info=0\n",
        "        for val in self.data[feat].unique():\n",
        "            avg_info+=self._get_entropy(self.data[self.data[feat] == val])*sum(self.data[feat]==val)/self.data.shape[0]\n",
        "        return self._get_entropy(df) - avg_info\n",
        "\n",
        "    def _get_splitter(self):\n",
        "        self.splitter = max(self.gains, key = itemgetter(1))[0]\n",
        "\n",
        "    def update_nodes(self):\n",
        "        self.features = [col for col in self.data.columns if col != self.target]\n",
        "        self.entropy = self._get_entropy(self.data)\n",
        "        if self.entropy != 0:\n",
        "            self.gains = [(feat, self._get_gain(feat)) for feat in self.features]\n",
        "            self._get_splitter()\n",
        "            residual_columns = [k for k in self.data.columns if k != self.splitter]\n",
        "            for val in self.data[self.splitter].unique():\n",
        "                df_tmp = self.data[self.data[self.splitter]==val][residual_columns]\n",
        "                tmp_node = DecisionTree(df_tmp, self.target, self.positive, val, self.splitter)\n",
        "                tmp_node.update_nodes()\n",
        "                self.childs.append(tmp_node)"
      ],
      "metadata": {
        "id": "SGC_YPZ7liHR"
      },
      "execution_count": 2,
      "outputs": []
    },
    {
      "cell_type": "code",
      "source": [
        "def print_tree(n):\n",
        "    for child in n.childs:\n",
        "        if child:\n",
        "            print(child.__dict__.get('parent', ''))\n",
        "            print(child.__dict__.get('parent_val', ''), '\\n')\n",
        "            print_tree(child)"
      ],
      "metadata": {
        "id": "UA1p6kZTljyZ"
      },
      "execution_count": 3,
      "outputs": []
    }
  ]
}